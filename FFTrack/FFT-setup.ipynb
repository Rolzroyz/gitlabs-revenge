{
 "metadata": {
  "name": "",
  "signature": "sha256:90391349a39a63ad5f878f665c5a78916c6d0cc5b53ad1b224ed38239d3e699e"
 },
 "nbformat": 3,
 "nbformat_minor": 0,
 "worksheets": [
  {
   "cells": [
    {
     "cell_type": "markdown",
     "metadata": {},
     "source": [
      "Royce Cribbs\n",
      "---\n",
      "Descrete fourier analysis package (personal use only)\n",
      "\n",
      "Link: http://en.wikipedia.org/wiki/Discrete_Fourier_transform#Definition"
     ]
    },
    {
     "cell_type": "code",
     "collapsed": false,
     "input": [
      "import numpy as np"
     ],
     "language": "python",
     "metadata": {},
     "outputs": [],
     "prompt_number": 8
    },
    {
     "cell_type": "markdown",
     "metadata": {},
     "source": [
      "The descrete Fourier Transform (DFT) is defined as follows"
     ]
    },
    {
     "cell_type": "markdown",
     "metadata": {},
     "source": [
      "$ X_k = \\sum_{n=0}^{N-1} x_n \\cdot e^{- i \\space 2\\pi \\space k \\space n \\space /\\space N}$  \n",
      "$ x_n \\text{ is amplitude in time continum}$   \n",
      "$ n \\text{ is index of datapoints}$  \n",
      "$ N \\text{ is number of points}$  \n",
      "$ k \\text{ is wave count-> interger counting numbers}$  \n",
      "\n",
      "$ \\text{Each } X_k \\text{ will be a complex number encoding the phasor and amplitude}$"
     ]
    },
    {
     "cell_type": "code",
     "collapsed": false,
     "input": [
      "x = np.array(np.random.rand(5)) # random noise for a signal\n",
      "N = x.shape[0]                  # length of transform\n",
      "n = np.arange(N,dtype='float')  # initial array of length x\n",
      "k = n.reshape((N,1))            # transposed array of length x\n",
      "print len(x),x.shape[0]\n",
      "M = np.exp(-2j * np.pi * n * k / N) #transform matrix <3\n",
      "print M.shape\n",
      "#print n*k\n",
      "#print n*k/x.shape\n",
      "print np.dot(x,M) #it works\n",
      "#maybe"
     ],
     "language": "python",
     "metadata": {},
     "outputs": [
      {
       "output_type": "stream",
       "stream": "stdout",
       "text": [
        "5 5\n",
        "(5, 5)\n",
        "[ 1.12604972+0.j          0.23377248-0.06179202j  0.34599910+0.31775822j\n",
        "  0.34599910-0.31775822j  0.23377248+0.06179202j]\n"
       ]
      }
     ],
     "prompt_number": 63
    },
    {
     "cell_type": "code",
     "collapsed": false,
     "input": [
      "print n\n",
      "print n*k\n",
      "print np.dot([[1,3],[3,4]],[1,2]) # dot(a, b)[i,j,k,m] = sum(a[i,j,:] * b[k,:,m])\n",
      "print np.dot([1,2],[[1,3],[3,4]])\n",
      "print \"yay for symetry\""
     ],
     "language": "python",
     "metadata": {},
     "outputs": [
      {
       "output_type": "stream",
       "stream": "stdout",
       "text": [
        "[ 0.  1.  2.  3.  4.]\n",
        "[[  0.   0.   0.   0.   0.]\n",
        " [  0.   1.   2.   3.   4.]\n",
        " [  0.   2.   4.   6.   8.]\n",
        " [  0.   3.   6.   9.  12.]\n",
        " [  0.   4.   8.  12.  16.]]\n",
        "[ 7 11]\n",
        "[ 7 11]\n",
        "yay for symetry\n"
       ]
      }
     ],
     "prompt_number": 62
    },
    {
     "cell_type": "code",
     "collapsed": false,
     "input": [
      "N = 1024  #number of points\n",
      "x = np.array(np.random.rand(N)) # random noise for a signal\n",
      "k = np.zeros(len(x))\n",
      "X_k = np.zeros((N,N),dtype='complex')\n",
      "print len(X_k)\n",
      "for i in range(len(X_k)):\n",
      "    X_k[i,:] = x * np.exp(-2j*np.pi*i*k/N)\n",
      "\n",
      "print \"yay\""
     ],
     "language": "python",
     "metadata": {},
     "outputs": [
      {
       "output_type": "stream",
       "stream": "stdout",
       "text": [
        "1024\n"
       ]
      },
      {
       "metadata": {},
       "output_type": "pyout",
       "prompt_number": 2,
       "text": [
        "array([[ 0.53261977+0.j,  0.76683761+0.j,  0.16890374+0.j, ...,\n",
        "         0.83962770+0.j,  0.92922575+0.j,  0.37213311+0.j],\n",
        "       [ 0.53261977+0.j,  0.76683761+0.j,  0.16890374+0.j, ...,\n",
        "         0.83962770+0.j,  0.92922575+0.j,  0.37213311+0.j],\n",
        "       [ 0.53261977+0.j,  0.76683761+0.j,  0.16890374+0.j, ...,\n",
        "         0.83962770+0.j,  0.92922575+0.j,  0.37213311+0.j],\n",
        "       ..., \n",
        "       [ 0.53261977+0.j,  0.76683761+0.j,  0.16890374+0.j, ...,\n",
        "         0.83962770+0.j,  0.92922575+0.j,  0.37213311+0.j],\n",
        "       [ 0.53261977+0.j,  0.76683761+0.j,  0.16890374+0.j, ...,\n",
        "         0.83962770+0.j,  0.92922575+0.j,  0.37213311+0.j],\n",
        "       [ 0.53261977+0.j,  0.76683761+0.j,  0.16890374+0.j, ...,\n",
        "         0.83962770+0.j,  0.92922575+0.j,  0.37213311+0.j]])"
       ]
      }
     ],
     "prompt_number": 2
    },
    {
     "cell_type": "code",
     "collapsed": false,
     "input": [],
     "language": "python",
     "metadata": {},
     "outputs": [],
     "prompt_number": 7
    },
    {
     "cell_type": "code",
     "collapsed": false,
     "input": [
      "print np.zeros((N,N)) == np.imag(X_k) #no imaginary component?\n",
      "print (np.zeros((N,N)).all == np.imag(X_k).all) #maybe\n",
      "mask = (np.imag(X_k) != 0)\n",
      "print mask\n",
      "print X_k[mask] #probably not -> could be bug"
     ],
     "language": "python",
     "metadata": {},
     "outputs": [
      {
       "output_type": "stream",
       "stream": "stdout",
       "text": [
        "[[ True  True  True ...,  True  True  True]\n",
        " [ True  True  True ...,  True  True  True]\n",
        " [ True  True  True ...,  True  True  True]\n",
        " ..., \n",
        " [ True  True  True ...,  True  True  True]\n",
        " [ True  True  True ...,  True  True  True]\n",
        " [ True  True  True ...,  True  True  True]]\n",
        "False\n",
        "[[False False False ..., False False False]\n",
        " [False False False ..., False False False]\n",
        " [False False False ..., False False False]\n",
        " ..., \n",
        " [False False False ..., False False False]\n",
        " [False False False ..., False False False]\n",
        " [False False False ..., False False False]]\n",
        "[]\n"
       ]
      }
     ],
     "prompt_number": 78
    },
    {
     "cell_type": "code",
     "collapsed": false,
     "input": [],
     "language": "python",
     "metadata": {},
     "outputs": []
    }
   ],
   "metadata": {}
  }
 ]
}