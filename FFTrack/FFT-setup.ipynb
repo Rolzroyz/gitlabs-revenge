{
 "metadata": {
  "name": "",
  "signature": "sha256:3a02272d1456d7d63c715b201805d1e18a16dac134b59069d07bec20defe02bd"
 },
 "nbformat": 3,
 "nbformat_minor": 0,
 "worksheets": [
  {
   "cells": [
    {
     "cell_type": "markdown",
     "metadata": {},
     "source": [
      "Royce Cribbs\n",
      "---\n",
      "Descrete fourier analysis package (personal use only)\n",
      "\n",
      "Link: http://en.wikipedia.org/wiki/Discrete_Fourier_transform#Definition"
     ]
    },
    {
     "cell_type": "code",
     "collapsed": false,
     "input": [
      "import numpy as np"
     ],
     "language": "python",
     "metadata": {},
     "outputs": [],
     "prompt_number": 2
    },
    {
     "cell_type": "markdown",
     "metadata": {},
     "source": [
      "The descrete Fourier Transform (DFT) is defined as follows"
     ]
    },
    {
     "cell_type": "markdown",
     "metadata": {},
     "source": [
      "$ X_k = \\sum_{n=0}^{N-1} x_n \\cdot e^{- i \\space 2\\pi \\space k \\space n \\space /\\space N}$  \n",
      "$ x_n \\text{ is amplitude in time continum}$   \n",
      "$ n \\text{ is index of datapoints}$  \n",
      "$ N \\text{ is number of points}$  \n",
      "$ k \\text{ is wave count-> interger counting numbers}$  \n",
      "\n",
      "$ \\text{Each } X_k \\text{ will be a complex number encoding the phasor and amplitude}$"
     ]
    },
    {
     "cell_type": "code",
     "collapsed": false,
     "input": [
      "x = np.array(np.random.rand(5)) # random noise for a signal\n",
      "N = x.shape[0]                  # length of transform\n",
      "n = np.arange(N,dtype='float')  # initial array of length x\n",
      "k = n.reshape((N,1))            # transposed array of length x\n",
      "print len(x),x.shape[0]\n",
      "M = np.exp(-2j * np.pi * n * k / N) #transform matrix <3\n",
      "print M.shape\n",
      "#print n*k\n",
      "#print n*k/x.shape\n",
      "print np.dot(x,M) #it works\n",
      "#maybe"
     ],
     "language": "python",
     "metadata": {},
     "outputs": [
      {
       "output_type": "stream",
       "stream": "stdout",
       "text": [
        "5 5\n",
        "(5, 5)\n",
        "[ 1.12604972+0.j          0.23377248-0.06179202j  0.34599910+0.31775822j\n",
        "  0.34599910-0.31775822j  0.23377248+0.06179202j]\n"
       ]
      }
     ],
     "prompt_number": 63
    },
    {
     "cell_type": "code",
     "collapsed": false,
     "input": [
      "%%writefile FFTpack.py\n",
      "import numpy as np #import stuff you dolt\n",
      "def fft_matrix(x):\n",
      "    \"\"\"Takes the Fourier Transform of a array x\n",
      "    and returns the descrete transform in K space\n",
      "    Protip: Secretly not a Fast Fourier transform \n",
      "    \"\"\"\n",
      "    N = x.shape[0]                  # length of transform\n",
      "    n = np.arange(N,dtype='float')  # initial array of length x\n",
      "    k = n.reshape((N,1))            # transposed array of length x\n",
      "    M = np.exp(-2j * np.pi * n * k / N) #transform matrix <3\n",
      "    return np.dot(x,M) #dot prodtuct/soltion\n",
      "\n",
      "def ifft_matrix(X_k):\n",
      "    \"\"\"Takes the Inverse Fourier Transform of a array X_k\n",
      "    and returns the descrete transform in K space\n",
      "    Protip: Secretly not a Fast Fourier transform \n",
      "    \"\"\"\n",
      "    NN = X_k.shape[0]                  # length of transform\n",
      "    nn = np.arange(NN,dtype='float')  # initial array of length x\n",
      "    kk = np.reshape(nn,(NN,1))            # transposed array of length x\n",
      "    MM = np.exp(-2j * np.pi * nn * kk / NN) #transform matrix <3\n",
      "    return np.dot(X_k,MM)/NN #dot prodtuct/soltion\n"
     ],
     "language": "python",
     "metadata": {},
     "outputs": [
      {
       "output_type": "stream",
       "stream": "stdout",
       "text": [
        "Overwriting FFTpack.py\n"
       ]
      }
     ],
     "prompt_number": 6
    },
    {
     "cell_type": "code",
     "collapsed": false,
     "input": [
      "import FFTpack"
     ],
     "language": "python",
     "metadata": {},
     "outputs": [],
     "prompt_number": 7
    },
    {
     "cell_type": "code",
     "collapsed": false,
     "input": [
      "foo = FFTpack.fft_matrix(np.array([1,2,3,4,5]))\n",
      "bar = FFTpack.ifft_matrix(foo)\n",
      "print np.array([1,2,3,4,5])\n",
      "print foo\n",
      "print bar\n",
      "\"\"\" need minimum zero check for imginary component and reorder possibly\"\"\""
     ],
     "language": "python",
     "metadata": {},
     "outputs": [
      {
       "output_type": "stream",
       "stream": "stdout",
       "text": [
        "[1 2 3 4 5]\n",
        "[ 15.0+0.j          -2.5+3.4409548j   -2.5+0.81229924j  -2.5-0.81229924j\n",
        "  -2.5-3.4409548j ]\n",
        "[ 1. -7.10542736e-16j  5. +1.50990331e-15j  4. +7.10542736e-16j\n",
        "  3. -3.55271368e-16j  2. -1.15463195e-15j]\n"
       ]
      }
     ],
     "prompt_number": 9
    },
    {
     "cell_type": "code",
     "collapsed": false,
     "input": [
      "#find the inverse\n",
      "X_k = np.array(np.random.rand(6)) # random noise in k space\n",
      "NN = X_k.shape[0]\n",
      "nn = np.arange(NN,dtype='float')\n",
      "kk = np.reshape(nn,(NN,1))\n",
      "MM = np.exp(-2j * np.pi * nn * kk / NN)\n",
      "print np.dot(X_k,MM)/NN\n",
      "print np.dot(X_k,MM)"
     ],
     "language": "python",
     "metadata": {},
     "outputs": [
      {
       "output_type": "stream",
       "stream": "stdout",
       "text": [
        "[ 0.39042901 +0.00000000e+00j  0.09269562 +7.14205029e-02j\n",
        "  0.16449133 +8.30280819e-02j -0.04243976 -2.77156723e-16j\n",
        "  0.16449133 -8.30280819e-02j  0.09269562 -7.14205029e-02j]\n",
        "[ 2.34257405 +0.00000000e+00j  0.55617374 +4.28523017e-01j\n",
        "  0.98694798 +4.98168492e-01j -0.25463859 -1.66294034e-15j\n",
        "  0.98694798 -4.98168492e-01j  0.55617374 -4.28523017e-01j]\n"
       ]
      }
     ],
     "prompt_number": 78
    },
    {
     "cell_type": "code",
     "collapsed": false,
     "input": [
      "print n\n",
      "print n*k\n",
      "print np.dot([1,2],[[1,3],[3,4]])\n",
      "print \"yay for symetry\""
     ],
     "language": "python",
     "metadata": {},
     "outputs": [
      {
       "output_type": "stream",
       "stream": "stdout",
       "text": [
        "[ 0.  1.  2.  3.  4.]\n",
        "[[  0.   0.   0.   0.   0.]\n",
        " [  0.   1.   2.   3.   4.]\n",
        " [  0.   2.   4.   6.   8.]\n",
        " [  0.   3.   6.   9.  12.]\n",
        " [  0.   4.   8.  12.  16.]]\n",
        "[ 7 11]\n",
        "[ 7 11]\n",
        "yay for symetry\n"
       ]
      }
     ],
     "prompt_number": 62
    },
    {
     "cell_type": "code",
     "collapsed": false,
     "input": [
      "%lsmagic"
     ],
     "language": "python",
     "metadata": {},
     "outputs": [
      {
       "json": [
        "{\"cell\": {\"prun\": \"ExecutionMagics\", \"file\": \"Other\", \"!\": \"OSMagics\", \"capture\": \"ExecutionMagics\", \"timeit\": \"ExecutionMagics\", \"script\": \"ScriptMagics\", \"pypy\": \"Other\", \"system\": \"OSMagics\", \"perl\": \"Other\", \"HTML\": \"Other\", \"bash\": \"Other\", \"python\": \"Other\", \"SVG\": \"Other\", \"javascript\": \"DisplayMagics\", \"writefile\": \"OSMagics\", \"ruby\": \"Other\", \"python3\": \"Other\", \"python2\": \"Other\", \"latex\": \"DisplayMagics\", \"sx\": \"OSMagics\", \"svg\": \"DisplayMagics\", \"html\": \"DisplayMagics\", \"sh\": \"Other\", \"time\": \"ExecutionMagics\", \"debug\": \"ExecutionMagics\"}, \"line\": {\"psource\": \"NamespaceMagics\", \"logstart\": \"LoggingMagics\", \"popd\": \"OSMagics\", \"loadpy\": \"CodeMagics\", \"install_ext\": \"ExtensionMagics\", \"colors\": \"BasicMagics\", \"who_ls\": \"NamespaceMagics\", \"lf\": \"Other\", \"install_profiles\": \"DeprecatedMagics\", \"ll\": \"Other\", \"pprint\": \"BasicMagics\", \"lk\": \"Other\", \"ls\": \"Other\", \"save\": \"CodeMagics\", \"tb\": \"ExecutionMagics\", \"lx\": \"Other\", \"pylab\": \"PylabMagics\", \"killbgscripts\": \"ScriptMagics\", \"quickref\": \"BasicMagics\", \"magic\": \"BasicMagics\", \"dhist\": \"OSMagics\", \"edit\": \"KernelMagics\", \"logstop\": \"LoggingMagics\", \"gui\": \"BasicMagics\", \"alias_magic\": \"BasicMagics\", \"debug\": \"ExecutionMagics\", \"page\": \"BasicMagics\", \"logstate\": \"LoggingMagics\", \"ed\": \"Other\", \"pushd\": \"OSMagics\", \"timeit\": \"ExecutionMagics\", \"rehashx\": \"OSMagics\", \"hist\": \"Other\", \"qtconsole\": \"KernelMagics\", \"rm\": \"Other\", \"dirs\": \"OSMagics\", \"run\": \"ExecutionMagics\", \"reset_selective\": \"NamespaceMagics\", \"rep\": \"Other\", \"pinfo2\": \"NamespaceMagics\", \"matplotlib\": \"PylabMagics\", \"unload_ext\": \"ExtensionMagics\", \"doctest_mode\": \"KernelMagics\", \"logoff\": \"LoggingMagics\", \"reload_ext\": \"ExtensionMagics\", \"pdb\": \"ExecutionMagics\", \"load\": \"CodeMagics\", \"lsmagic\": \"BasicMagics\", \"autosave\": \"KernelMagics\", \"cd\": \"OSMagics\", \"pastebin\": \"CodeMagics\", \"prun\": \"ExecutionMagics\", \"cp\": \"Other\", \"autocall\": \"AutoMagics\", \"bookmark\": \"OSMagics\", \"connect_info\": \"KernelMagics\", \"mkdir\": \"Other\", \"system\": \"OSMagics\", \"whos\": \"NamespaceMagics\", \"rmdir\": \"Other\", \"automagic\": \"AutoMagics\", \"store\": \"StoreMagics\", \"more\": \"KernelMagics\", \"pdef\": \"NamespaceMagics\", \"precision\": \"BasicMagics\", \"pinfo\": \"NamespaceMagics\", \"pwd\": \"OSMagics\", \"psearch\": \"NamespaceMagics\", \"reset\": \"NamespaceMagics\", \"recall\": \"HistoryMagics\", \"xdel\": \"NamespaceMagics\", \"xmode\": \"BasicMagics\", \"cat\": \"Other\", \"mv\": \"Other\", \"rerun\": \"HistoryMagics\", \"logon\": \"LoggingMagics\", \"history\": \"HistoryMagics\", \"pycat\": \"OSMagics\", \"unalias\": \"OSMagics\", \"install_default_config\": \"DeprecatedMagics\", \"env\": \"OSMagics\", \"load_ext\": \"ExtensionMagics\", \"config\": \"ConfigMagics\", \"profile\": \"BasicMagics\", \"pfile\": \"NamespaceMagics\", \"less\": \"KernelMagics\", \"who\": \"NamespaceMagics\", \"notebook\": \"BasicMagics\", \"man\": \"KernelMagics\", \"sx\": \"OSMagics\", \"macro\": \"ExecutionMagics\", \"clear\": \"KernelMagics\", \"alias\": \"OSMagics\", \"time\": \"ExecutionMagics\", \"sc\": \"OSMagics\", \"ldir\": \"Other\", \"pdoc\": \"NamespaceMagics\"}}"
       ],
       "metadata": {},
       "output_type": "pyout",
       "prompt_number": 69,
       "text": [
        "Available line magics:\n",
        "%alias  %alias_magic  %autocall  %automagic  %autosave  %bookmark  %cat  %cd  %clear  %colors  %config  %connect_info  %cp  %debug  %dhist  %dirs  %doctest_mode  %ed  %edit  %env  %gui  %hist  %history  %install_default_config  %install_ext  %install_profiles  %killbgscripts  %ldir  %less  %lf  %lk  %ll  %load  %load_ext  %loadpy  %logoff  %logon  %logstart  %logstate  %logstop  %ls  %lsmagic  %lx  %macro  %magic  %man  %matplotlib  %mkdir  %more  %mv  %notebook  %page  %pastebin  %pdb  %pdef  %pdoc  %pfile  %pinfo  %pinfo2  %popd  %pprint  %precision  %profile  %prun  %psearch  %psource  %pushd  %pwd  %pycat  %pylab  %qtconsole  %quickref  %recall  %rehashx  %reload_ext  %rep  %rerun  %reset  %reset_selective  %rm  %rmdir  %run  %save  %sc  %store  %sx  %system  %tb  %time  %timeit  %unalias  %unload_ext  %who  %who_ls  %whos  %xdel  %xmode\n",
        "\n",
        "Available cell magics:\n",
        "%%!  %%HTML  %%SVG  %%bash  %%capture  %%debug  %%file  %%html  %%javascript  %%latex  %%perl  %%prun  %%pypy  %%python  %%python2  %%python3  %%ruby  %%script  %%sh  %%svg  %%sx  %%system  %%time  %%timeit  %%writefile\n",
        "\n",
        "Automagic is ON, % prefix IS NOT needed for line magics."
       ]
      }
     ],
     "prompt_number": 69
    }
   ],
   "metadata": {}
  }
 ]
}