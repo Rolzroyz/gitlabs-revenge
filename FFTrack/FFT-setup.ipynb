{
 "metadata": {
  "name": "",
  "signature": "sha256:3de384b22d79a572751b6da306f3d4ee17ad7830b4a73f344bffeaabab221e8a"
 },
 "nbformat": 3,
 "nbformat_minor": 0,
 "worksheets": [
  {
   "cells": [
    {
     "cell_type": "markdown",
     "metadata": {},
     "source": [
      "Royce Cribbs\n",
      "---\n",
      "Descrete fourier analysis package (personal use only)\n",
      "\n",
      "Link: http://en.wikipedia.org/wiki/Discrete_Fourier_transform#Definition"
     ]
    },
    {
     "cell_type": "code",
     "collapsed": false,
     "input": [
      "import numpy as np"
     ],
     "language": "python",
     "metadata": {},
     "outputs": [],
     "prompt_number": 1
    },
    {
     "cell_type": "markdown",
     "metadata": {},
     "source": [
      "The descrete Fourier Transform (DFT) is defined as follows"
     ]
    },
    {
     "cell_type": "markdown",
     "metadata": {},
     "source": [
      "$ X_k = \\sum_{n=0}^{N-1} x_n \\cdot e^{- i \\space 2\\pi \\space k \\space n \\space /\\space N}$  \n",
      "$ x_n \\text{ is amplitude in time continum}$   \n",
      "$ n \\text{ is index of datapoints}$  \n",
      "$ N \\text{ is number of points}$  \n",
      "$ k \\text{ is wave count-> interger counting numbers}$  \n",
      "\n",
      "$ \\text{Each } X_k \\text{ will be a complex number encoding the phasor and amplitude}$"
     ]
    },
    {
     "cell_type": "code",
     "collapsed": false,
     "input": [
      "N = 1024  #number of points\n",
      "x = np.array(np.random.rand(N)) # random noise for a signal\n",
      "k = np.zeros(len(x))\n",
      "X_k = np.zeros((N,N),dtype='complex')\n",
      "print len(X_k)\n",
      "for i in range(len(X_k)):\n",
      "    X_k[i,:] = x * np.exp(-2j*np.pi*i*k/N)\n",
      "\n",
      "print \"yay\""
     ],
     "language": "python",
     "metadata": {},
     "outputs": [
      {
       "output_type": "stream",
       "stream": "stdout",
       "text": [
        "1024\n",
        "yay"
       ]
      },
      {
       "output_type": "stream",
       "stream": "stdout",
       "text": [
        "\n"
       ]
      }
     ],
     "prompt_number": 58
    },
    {
     "cell_type": "code",
     "collapsed": false,
     "input": [
      "#np.apply_along_axis?\n",
      "np.append?"
     ],
     "language": "python",
     "metadata": {},
     "outputs": [],
     "prompt_number": 36
    },
    {
     "cell_type": "code",
     "collapsed": false,
     "input": [
      "print np.zeros((N,N)) == np.imag(X_k) #no imaginary component?\n",
      "print (np.zeros((N,N)).all == np.imag(X_k).all) #maybe\n",
      "mask = (np.imag(X_k) != 0)\n",
      "print mask\n",
      "print X_k[mask] #probably not -> could be bug"
     ],
     "language": "python",
     "metadata": {},
     "outputs": [
      {
       "output_type": "stream",
       "stream": "stdout",
       "text": [
        "[[ True  True  True ...,  True  True  True]\n",
        " [ True  True  True ...,  True  True  True]\n",
        " [ True  True  True ...,  True  True  True]\n",
        " ..., \n",
        " [ True  True  True ...,  True  True  True]\n",
        " [ True  True  True ...,  True  True  True]\n",
        " [ True  True  True ...,  True  True  True]]\n",
        "False\n",
        "[[False False False ..., False False False]\n",
        " [False False False ..., False False False]\n",
        " [False False False ..., False False False]\n",
        " ..., \n",
        " [False False False ..., False False False]\n",
        " [False False False ..., False False False]\n",
        " [False False False ..., False False False]]\n",
        "[]\n"
       ]
      }
     ],
     "prompt_number": 78
    }
   ],
   "metadata": {}
  }
 ]
}